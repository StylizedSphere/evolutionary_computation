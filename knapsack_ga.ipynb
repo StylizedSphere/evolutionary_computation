{
 "cells": [
  {
   "cell_type": "code",
   "execution_count": 1,
   "id": "metallic-ministry",
   "metadata": {},
   "outputs": [],
   "source": [
    "import numpy as np"
   ]
  },
  {
   "cell_type": "code",
   "execution_count": 2,
   "id": "rental-uzbekistan",
   "metadata": {},
   "outputs": [
    {
     "name": "stdout",
     "output_type": "stream",
     "text": [
      "220\n"
     ]
    }
   ],
   "source": [
    "def bruteForce(budget, cost, values, n):\n",
    "    if (budget <= 0 or n <= 0):\n",
    "        return 0\n",
    "    if (cost[n - 1] > budget):\n",
    "        return bruteForce(budget, cost, values, n - 1)\n",
    "    return max(values[n - 1] + bruteForce(budget - cost[n - 1], cost, values, n - 1), bruteForce(budget, cost, values, n - 1))\n",
    "    \n",
    "val = [60, 100, 120]\n",
    "wt = [10, 20, 30]\n",
    "W = 50\n",
    "n = len(val)\n",
    "print(bruteForce(W, wt, val, n))"
   ]
  },
  {
   "cell_type": "code",
   "execution_count": 29,
   "id": "legitimate-supervisor",
   "metadata": {},
   "outputs": [
    {
     "name": "stdout",
     "output_type": "stream",
     "text": [
      "220\n"
     ]
    }
   ],
   "source": [
    "def dynamicProgramming(budget, cost, value, n):\n",
    "    C = [[0 for __ in range(budget + 1)] for _ in range(n + 1)]\n",
    "    C[0][:] = [0] * (budget + 1)\n",
    "    C[:][0] = [0] * (n + 1)\n",
    "    \n",
    "    for i in range(1, budget + 1):\n",
    "        for j in  range(1, n + 1):\n",
    "            C[j][i] = C[j - 1][i]\n",
    "            if (i - cost[j - 1] >= 0):\n",
    "                C[j][i] = value[j - 1] + C[j][i - cost[j - 1]]\n",
    "    return C[n][budget]\n",
    "\n",
    "val = [60, 100, 120]\n",
    "wt = [10, 20, 30]\n",
    "W = 50\n",
    "n = len(val)\n",
    "print(dynamicProgramming(W, wt, val, n))"
   ]
  }
 ],
 "metadata": {
  "kernelspec": {
   "display_name": "Python 3",
   "language": "python",
   "name": "python3"
  },
  "language_info": {
   "codemirror_mode": {
    "name": "ipython",
    "version": 3
   },
   "file_extension": ".py",
   "mimetype": "text/x-python",
   "name": "python",
   "nbconvert_exporter": "python",
   "pygments_lexer": "ipython3",
   "version": "3.8.5"
  }
 },
 "nbformat": 4,
 "nbformat_minor": 5
}
