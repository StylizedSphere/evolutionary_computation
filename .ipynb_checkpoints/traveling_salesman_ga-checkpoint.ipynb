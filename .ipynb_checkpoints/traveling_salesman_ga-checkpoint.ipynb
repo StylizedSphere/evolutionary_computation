{
 "cells": [
  {
   "cell_type": "code",
   "execution_count": 1,
   "id": "spoken-annotation",
   "metadata": {},
   "outputs": [],
   "source": [
    "import numpy as np\n",
    "from itertools import combinations"
   ]
  },
  {
   "cell_type": "code",
   "execution_count": 35,
   "id": "twenty-tribe",
   "metadata": {},
   "outputs": [
    {
     "name": "stdout",
     "output_type": "stream",
     "text": [
      "[80, [1, 3, 4, 2, 1]]\n"
     ]
    }
   ],
   "source": [
    "def allPerms(element):\n",
    "    if len(element) <=1:\n",
    "        yield element\n",
    "    else:\n",
    "        for perm in allPerms(element[1:]):\n",
    "            for i in range(len(perm)+1):\n",
    "                #nb str[0:1] works in both string and list contexts\n",
    "                yield perm[:i] + element[0:1] + perm[i:]\n",
    "\n",
    "def bruteForce(graph, s):\n",
    "    cost = 1000\n",
    "    path = []\n",
    "    arr = list(range(1, 4))\n",
    "    for allCities in list(allPerms(arr)):\n",
    "        allCities = [0] + allCities + [0]\n",
    "        currentCost = 0\n",
    "        for i in range(1, len(allCities)):\n",
    "            currentCost += graph[allCities[i - 1]][allCities[i]]\n",
    "        if (currentCost < cost):\n",
    "            cost = currentCost\n",
    "            path = allCities\n",
    "    path = [x + 1 for x in path]\n",
    "    return [cost, path]\n",
    "\n",
    "graph = [[0, 10, 15, 20], [10, 0, 35, 25],\n",
    "        [15, 35, 0, 30], [20, 25, 30, 0]]\n",
    "s = 0\n",
    "print(bruteForce(graph, s))"
   ]
  },
  {
   "cell_type": "code",
   "execution_count": 41,
   "id": "sudden-asthma",
   "metadata": {},
   "outputs": [
    {
     "name": "stdout",
     "output_type": "stream",
     "text": [
      "[1, 0]\n",
      "[2, 3, 0]\n",
      "[2, 0]\n",
      "[3, 0]\n",
      "[3, 0]\n",
      "[1, 2, 3, 0]\n",
      "[1, 2, 0]\n",
      "[1, 3, 0]\n",
      "[1, 3, 0]\n",
      "[2, 3, 0]\n",
      "[2, 3, 0]\n",
      "[2, 3, 0]\n",
      "[1, 2, 3, 0]\n",
      "[1, 2, 3, 0]\n",
      "[1, 2, 3, 0]\n",
      "(80, 1)\n"
     ]
    }
   ],
   "source": [
    "def allCombinations(element, size):\n",
    "    if (len(element) <= 1):\n",
    "        yield element\n",
    "    if (size == 0): \n",
    "        yield []\n",
    "    else:\n",
    "        for i in range(len(element) - size + 1):\n",
    "            for combi in allCombinations(element[i + 1:], size - 1):\n",
    "                yield [element[i]] + combi\n",
    "\n",
    "def dynamicProgramming(G, s):\n",
    "    n = len(G)\n",
    "    C = [[np.inf for _ in range(1 << n)] for __ in range(n)]\n",
    "    C[0][1] = 0\n",
    "    for size in range(1, n):\n",
    "        for S in allCombinations(list(range(1, n)), size):\n",
    "            S = S + [0]\n",
    "            print(S)\n",
    "            k = sum([1 << _ for _ in S])\n",
    "            for i in S:\n",
    "                if (i == 0): continue\n",
    "                index = k ^ (1 << i)\n",
    "                for j in S:\n",
    "                    if (j == i): continue\n",
    "                    C[i][k] = min(C[i][k], C[j][index] + G[i][j])\n",
    "    max_index = (1 << n) - 1\n",
    "    return min([(C[i][max_index] + G[i][0], i) for i in range(n)])\n",
    "\n",
    "# matrix representation of graph\n",
    "graph = [[0, 10, 15, 20], [10, 0, 35, 25],\n",
    "        [15, 35, 0, 30], [20, 25, 30, 0]]\n",
    "s = 0\n",
    "print(dynamicProgramming(graph, s))"
   ]
  },
  {
   "cell_type": "code",
   "execution_count": 42,
   "id": "sharp-batch",
   "metadata": {},
   "outputs": [
    {
     "ename": "IndentationError",
     "evalue": "expected an indented block (<ipython-input-42-2e8b27336c1b>, line 13)",
     "output_type": "error",
     "traceback": [
      "\u001b[1;36m  File \u001b[1;32m\"<ipython-input-42-2e8b27336c1b>\"\u001b[1;36m, line \u001b[1;32m13\u001b[0m\n\u001b[1;33m    graph = [[0, 10, 15, 20], [10, 0, 35, 25],\u001b[0m\n\u001b[1;37m                                              ^\u001b[0m\n\u001b[1;31mIndentationError\u001b[0m\u001b[1;31m:\u001b[0m expected an indented block\n"
     ]
    }
   ],
   "source": [
    "DNA_SIZE = 10            # DNA length\n",
    "POP_SIZE = 100           # population size\n",
    "CROSS_RATE = 0.8         # mating probability (DNA crossover)\n",
    "MUTATION_RATE = 0.003    # mutation probability\n",
    "N_GENERATIONS = 200\n",
    "X_BOUND = [0, 5]         # x upper and lower bounds\n",
    "\n",
    "def geneticAlgorithm(G, s):\n",
    "    n = len(G)\n",
    "    for i in range(N_GENERATIONS):\n",
    "    \n",
    "# matrix representation of graph\n",
    "graph = [[0, 10, 15, 20], [10, 0, 35, 25],\n",
    "        [15, 35, 0, 30], [20, 25, 30, 0]]\n",
    "s = 0\n",
    "print(geneticAlgorithm(graph, s))"
   ]
  },
  {
   "cell_type": "code",
   "execution_count": null,
   "id": "numeric-fountain",
   "metadata": {},
   "outputs": [],
   "source": []
  },
  {
   "cell_type": "code",
   "execution_count": null,
   "id": "electric-cherry",
   "metadata": {},
   "outputs": [],
   "source": []
  }
 ],
 "metadata": {
  "kernelspec": {
   "display_name": "Python 3",
   "language": "python",
   "name": "python3"
  },
  "language_info": {
   "codemirror_mode": {
    "name": "ipython",
    "version": 3
   },
   "file_extension": ".py",
   "mimetype": "text/x-python",
   "name": "python",
   "nbconvert_exporter": "python",
   "pygments_lexer": "ipython3",
   "version": "3.8.5"
  }
 },
 "nbformat": 4,
 "nbformat_minor": 5
}
